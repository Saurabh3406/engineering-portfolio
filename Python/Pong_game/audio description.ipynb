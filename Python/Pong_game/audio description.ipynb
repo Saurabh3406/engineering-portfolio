{
 "cells": [
  {
   "cell_type": "code",
   "execution_count": 3,
   "id": "7f8a29e2",
   "metadata": {},
   "outputs": [
    {
     "name": "stdout",
     "output_type": "stream",
     "text": [
      "Audio saved as pong_game_summary.mp3\n"
     ]
    }
   ],
   "source": [
    "from gtts import gTTS\n",
    "\n",
    "audio_text = (\n",
    "    \"This is a classic Pong game built using Python and Pygame. \"\n",
    "    \"The game window is 800 by 600 pixels, with two paddles — one controlled by the keyboard and the other by the mouse. \"\n",
    "    \"A red ball moves across the screen, bouncing off the top and bottom boundaries, as well as the paddles. \"\n",
    "    \"Players score when the opponent misses the ball. \"\n",
    "    \"The game keeps track of player scores and displays them at the top. \"\n",
    "    \"It features simple collision detection, paddle movement, and a reset mechanism when a point is scored — \"\n",
    "    \"all running smoothly at 60 frames per second.\"\n",
    ")\n",
    "\n",
    "tts = gTTS(text=audio_text)\n",
    "tts.save(\"pong_game_summary.mp3\")\n",
    "print(\"Audio saved as pong_game_summary.mp3\")\n"
   ]
  }
 ],
 "metadata": {
  "kernelspec": {
   "display_name": "Python 3",
   "language": "python",
   "name": "python3"
  },
  "language_info": {
   "codemirror_mode": {
    "name": "ipython",
    "version": 3
   },
   "file_extension": ".py",
   "mimetype": "text/x-python",
   "name": "python",
   "nbconvert_exporter": "python",
   "pygments_lexer": "ipython3",
   "version": "3.13.5"
  }
 },
 "nbformat": 4,
 "nbformat_minor": 5
}
